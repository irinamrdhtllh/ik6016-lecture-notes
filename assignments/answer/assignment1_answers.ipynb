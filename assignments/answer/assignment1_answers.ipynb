{
 "cells": [
  {
   "cell_type": "markdown",
   "id": "e52fd959",
   "metadata": {},
   "source": [
    "# Assignment 1 - Answer"
   ]
  },
  {
   "cell_type": "markdown",
   "id": "d97421cd",
   "metadata": {},
   "source": [
    "## 1. Variables and Arithmetic Operations:\n",
    "Write a Python/MATLAB program that calculates the area of a circle given the radius. Use the formula $A=\\pi r^2$ with $r=5$."
   ]
  },
  {
   "cell_type": "code",
   "execution_count": 1,
   "id": "a624e357",
   "metadata": {},
   "outputs": [],
   "source": [
    "import numpy as np\n",
    "import matplotlib.pyplot as plt"
   ]
  },
  {
   "cell_type": "code",
   "execution_count": 2,
   "id": "9dee1d16",
   "metadata": {},
   "outputs": [
    {
     "name": "stdout",
     "output_type": "stream",
     "text": [
      "78.53981633974483\n"
     ]
    }
   ],
   "source": [
    "r = 5\n",
    "A = np.pi * r**2\n",
    "\n",
    "print(A)"
   ]
  },
  {
   "cell_type": "markdown",
   "id": "b3b5b4a5",
   "metadata": {},
   "source": [
    "## 2. Conditional Statements:\n",
    "Write a Python/MATLAB program that asks the user for a number and prints whether it is a positive, negative, or zero. _Hint: use input() function to ask for input from user._"
   ]
  },
  {
   "cell_type": "code",
   "execution_count": 3,
   "id": "da691cce",
   "metadata": {},
   "outputs": [
    {
     "name": "stdout",
     "output_type": "stream",
     "text": [
      "Input the number: 9\n",
      "The number is positive\n"
     ]
    }
   ],
   "source": [
    "num = int(input(\"Input the number: \"))\n",
    "\n",
    "if num > 0:\n",
    "    print(\"The number is positive\")\n",
    "elif num < 0:\n",
    "    print(\"The number is negative\")\n",
    "else:\n",
    "    print(\"The number is zero\")"
   ]
  },
  {
   "cell_type": "markdown",
   "id": "a27a39b5",
   "metadata": {},
   "source": [
    "## 3. Loops – For Loop:\n",
    "Write a Python/MATLAB program that calculates the sum of all even numbers between 1 and a number $n$ (you can use any number for $n$)."
   ]
  },
  {
   "cell_type": "code",
   "execution_count": 6,
   "id": "a0afab5a",
   "metadata": {},
   "outputs": [
    {
     "name": "stdout",
     "output_type": "stream",
     "text": [
      "The sum of all even number between 1 and a number 10 is 20\n"
     ]
    }
   ],
   "source": [
    "n = 10\n",
    "total = 0\n",
    "for i in range(1, n):\n",
    "    if i % 2 == 0:\n",
    "        total += i\n",
    "        \n",
    "print(f\"The sum of all even number between 1 and a number {n} is {total}\")"
   ]
  },
  {
   "cell_type": "markdown",
   "id": "09038392",
   "metadata": {},
   "source": [
    "## 4. Loops – While Loop:\n",
    "Write a Python/MATLAB program that continuously asks the user for numbers and prints their cumulative sum. The loop should stop when the user enters a negative number."
   ]
  },
  {
   "cell_type": "code",
   "execution_count": 3,
   "id": "7d357846",
   "metadata": {},
   "outputs": [
    {
     "name": "stdout",
     "output_type": "stream",
     "text": [
      "Input the number: 8\n",
      "The cummulative sum of 8 is 36 \n",
      "\n",
      "Input the number: -1\n"
     ]
    }
   ],
   "source": [
    "while True:\n",
    "    n = int(input(\"Input the number: \"))\n",
    "    \n",
    "    if n < 0:\n",
    "        break\n",
    "        \n",
    "    i = 0\n",
    "    total = 0\n",
    "    while i <= n:\n",
    "        total += i\n",
    "        i += 1\n",
    "#     print(f\"The cummulative sum of {n} is {total}\\n\")\n",
    "    print(\"The cummulative sum of\", n, \"is\", total, \"\\n\")    "
   ]
  },
  {
   "cell_type": "markdown",
   "id": "6c5bb4ac",
   "metadata": {},
   "source": [
    "## 5. Matrix Operations:\n",
    "Create two 3×3 matrices and:\n",
    "- Add the matrices\n",
    "- Multiply the matrices\n",
    "- Find the determinant of the second matrix"
   ]
  },
  {
   "cell_type": "code",
   "execution_count": 18,
   "id": "77a23fda",
   "metadata": {},
   "outputs": [
    {
     "name": "stdout",
     "output_type": "stream",
     "text": [
      "C = A + B =\n",
      "[[ 5  8  5]\n",
      " [ 9 10 13]\n",
      " [13  2  8]]\n",
      "\n",
      "D = A * B =\n",
      "[[50 27 51]\n",
      " [83 33 83]\n",
      " [28 24 56]]\n",
      "\n",
      "E = det(B) = -40.00\n"
     ]
    }
   ],
   "source": [
    "A = np.array([[4, 6, 1], [2, 7, 8], [9, 1, 3]])\n",
    "B = np.array([[1, 2, 4], [7, 3, 5], [4, 1, 5]])\n",
    "\n",
    "C = A + B\n",
    "D = np.dot(A, B)\n",
    "E = np.linalg.det(B)\n",
    "\n",
    "print(\"C = A + B =\")\n",
    "print(C)\n",
    "\n",
    "print(\"\\nD = A * B =\")\n",
    "print(D)\n",
    "\n",
    "print(f\"\\nE = det(B) = {E:.2f}\")"
   ]
  },
  {
   "cell_type": "markdown",
   "id": "4d500191",
   "metadata": {},
   "source": [
    "## 6. Functions:\n",
    "Write a Python/MATLAB function called `time_constants` that takes the damping coefficient $\\zeta$ and natural frequency $\\omega_n$ of a second-order system as inputs, and returns the system’s settling time $t_s$ and peak time $t_p$. The formulas are:\n",
    "\n",
    "$$t_s = \\frac{4}{\\zeta \\omega_n}$$\n",
    "\n",
    "$$t_p = \\frac{\\pi}{\\omega_n \\sqrt{1 - \\zeta^2}}$$\n",
    "\n",
    "Test the function with $\\zeta = 0.5$ and $\\omega_n = 2$."
   ]
  },
  {
   "cell_type": "code",
   "execution_count": 19,
   "id": "6885699b",
   "metadata": {},
   "outputs": [
    {
     "name": "stdout",
     "output_type": "stream",
     "text": [
      "The system's settling time is 4.0\n",
      "The system's peak time is 1.8137993642342178\n"
     ]
    }
   ],
   "source": [
    "def time_constants(zeta, omega_n):\n",
    "    t_s = 4 / (zeta * omega_n)\n",
    "    t_p = np.pi / (omega_n * np.sqrt(1 - zeta**2))\n",
    "    \n",
    "    return t_s, t_p\n",
    "\n",
    "zeta = 0.5\n",
    "omega_n = 2\n",
    "\n",
    "t_s, t_p = time_constants(zeta, omega_n)\n",
    "\n",
    "print(f\"The system's settling time is {t_s}\")\n",
    "print(f\"The system's peak time is {t_p}\")"
   ]
  },
  {
   "cell_type": "markdown",
   "id": "b5b0fc2b",
   "metadata": {},
   "source": [
    "## 7. Plotting Graphs:\n",
    "Plot the function $y=\\cos (x)$ for $x$ ranging from $0$ to $2\\pi$ using Python or MATLAB. Add gridlines and labels to the plot."
   ]
  },
  {
   "cell_type": "code",
   "execution_count": 22,
   "id": "572975ef",
   "metadata": {},
   "outputs": [
    {
     "data": {
      "image/png": "[encoded data removed]",
      "text/plain": [
       "<Figure size 640x480 with 1 Axes>"
      ]
     },
     "metadata": {},
     "output_type": "display_data"
    }
   ],
   "source": [
    "x = np.arange(0, 2 * np.pi, 0.1)\n",
    "y = np.cos(x)\n",
    "\n",
    "# Create a line plot\n",
    "plt.plot(x, y)\n",
    "\n",
    "# Add labels and title\n",
    "plt.xlabel('X Axis')\n",
    "plt.ylabel('Y Axis')\n",
    "plt.title('Simple Line Plot')\n",
    "plt.grid(True)\n",
    "\n",
    "# Show the plot\n",
    "plt.show()"
   ]
  },
  {
   "cell_type": "code",
   "execution_count": null,
   "id": "d2e332d6",
   "metadata": {},
   "outputs": [],
   "source": []
  }
 ],
 "metadata": {
  "kernelspec": {
   "display_name": "Python 3 (ipykernel)",
   "language": "python",
   "name": "python3"
  },
  "language_info": {
   "codemirror_mode": {
    "name": "ipython",
    "version": 3
   },
   "file_extension": ".py",
   "mimetype": "text/x-python",
   "name": "python",
   "nbconvert_exporter": "python",
   "pygments_lexer": "ipython3",
   "version": "3.9.13"
  }
 },
 "nbformat": 4,
 "nbformat_minor": 5
}
