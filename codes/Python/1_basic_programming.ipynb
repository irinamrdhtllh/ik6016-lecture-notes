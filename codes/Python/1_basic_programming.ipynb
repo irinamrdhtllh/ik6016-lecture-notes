{
 "cells": [
  {
   "cell_type": "markdown",
   "id": "4c052c32",
   "metadata": {},
   "source": [
    "# Introduction to Programming for Control and Application\n",
    "\n",
    "## IK6012 Control and Application\n",
    "\n",
    "List of contents:\n",
    "- Variables\n",
    "- Arithmetics Operations\n",
    "- Matrix Operations\n",
    "- Loops\n",
    "- Conditionals\n",
    "- Graphs\n",
    "- Functions"
   ]
  },
  {
   "cell_type": "markdown",
   "id": "185d5e72",
   "metadata": {},
   "source": [
    "## Variables"
   ]
  },
  {
   "cell_type": "code",
   "execution_count": 1,
   "id": "3a93df77",
   "metadata": {},
   "outputs": [
    {
     "name": "stdout",
     "output_type": "stream",
     "text": [
      "Result of x + y: 15\n"
     ]
    }
   ],
   "source": [
    "# Define a variable and assign a value\n",
    "x = 10\n",
    "y = 5\n",
    "\n",
    "# Use the variables in operations\n",
    "z = x + y\n",
    "print(\"Result of x + y:\", z)"
   ]
  },
  {
   "cell_type": "markdown",
   "id": "487e5a93",
   "metadata": {},
   "source": [
    "## Arithmetic Operations"
   ]
  },
  {
   "cell_type": "code",
   "execution_count": 2,
   "id": "d901c250",
   "metadata": {},
   "outputs": [
    {
     "name": "stdout",
     "output_type": "stream",
     "text": [
      "Addition: 15\n",
      "Subtraction: 5\n",
      "Multiplication: 50\n",
      "Division: 2.0\n",
      "Exponentiation: 100\n"
     ]
    }
   ],
   "source": [
    "print(\"Addition:\", x + y) \n",
    "print(\"Subtraction:\", x - y)\n",
    "print(\"Multiplication:\", x * y)\n",
    "print(\"Division:\", x / y)\n",
    "print(\"Exponentiation:\", x ** 2)"
   ]
  },
  {
   "cell_type": "markdown",
   "id": "a1fa543c",
   "metadata": {},
   "source": [
    "## Matrix Operations"
   ]
  },
  {
   "cell_type": "code",
   "execution_count": 3,
   "id": "8ebb0b16",
   "metadata": {},
   "outputs": [],
   "source": [
    "import numpy as np"
   ]
  },
  {
   "cell_type": "code",
   "execution_count": 4,
   "id": "2a71c9bd",
   "metadata": {},
   "outputs": [
    {
     "name": "stdout",
     "output_type": "stream",
     "text": [
      "Matrix A is\n",
      "[[1 2 3]\n",
      " [4 5 6]\n",
      " [7 8 9]]\n",
      "Matrix B is\n",
      "[[9 8 7]\n",
      " [6 5 4]\n",
      " [3 2 1]]\n"
     ]
    }
   ],
   "source": [
    "A = np.array([[1, 2, 3], \n",
    "              [4, 5, 6], \n",
    "              [7, 8, 9]])\n",
    "B = np.array([[9, 8, 7],\n",
    "              [6, 5, 4],\n",
    "              [3, 2, 1]])\n",
    "\n",
    "print(\"Matrix A is\")\n",
    "print(A)\n",
    "print(\"Matrix B is\")\n",
    "print(B)"
   ]
  },
  {
   "cell_type": "markdown",
   "id": "8caa4564",
   "metadata": {},
   "source": [
    "### 1. Matrix Addition"
   ]
  },
  {
   "cell_type": "code",
   "execution_count": 5,
   "id": "229179da",
   "metadata": {},
   "outputs": [
    {
     "name": "stdout",
     "output_type": "stream",
     "text": [
      "[[10 10 10]\n",
      " [10 10 10]\n",
      " [10 10 10]]\n"
     ]
    }
   ],
   "source": [
    "# Add A and B\n",
    "C = A + B\n",
    "\n",
    "print(C)"
   ]
  },
  {
   "cell_type": "markdown",
   "id": "7791cba8",
   "metadata": {},
   "source": [
    "### 2. Matrix Substraction"
   ]
  },
  {
   "cell_type": "code",
   "execution_count": 6,
   "id": "26f595d6",
   "metadata": {},
   "outputs": [
    {
     "name": "stdout",
     "output_type": "stream",
     "text": [
      "[[-8 -6 -4]\n",
      " [-2  0  2]\n",
      " [ 4  6  8]]\n"
     ]
    }
   ],
   "source": [
    "# Substract B from A\n",
    "D = A - B\n",
    "\n",
    "print(D)"
   ]
  },
  {
   "cell_type": "markdown",
   "id": "9c5058b8",
   "metadata": {},
   "source": [
    "### 3. Matrix Multiplication"
   ]
  },
  {
   "cell_type": "code",
   "execution_count": 7,
   "id": "3b359d19",
   "metadata": {},
   "outputs": [
    {
     "name": "stdout",
     "output_type": "stream",
     "text": [
      "[[ 30  24  18]\n",
      " [ 84  69  54]\n",
      " [138 114  90]]\n"
     ]
    }
   ],
   "source": [
    "# Multiply A and B\n",
    "E = np.dot(A, B)\n",
    "\n",
    "print(E)"
   ]
  },
  {
   "cell_type": "markdown",
   "id": "dc489f66",
   "metadata": {},
   "source": [
    "### 4. Element-Wise Multiplication"
   ]
  },
  {
   "cell_type": "code",
   "execution_count": 8,
   "id": "34710053",
   "metadata": {},
   "outputs": [
    {
     "name": "stdout",
     "output_type": "stream",
     "text": [
      "[[ 9 16 21]\n",
      " [24 25 24]\n",
      " [21 16  9]]\n"
     ]
    }
   ],
   "source": [
    "# Multiply A and B element-wise\n",
    "F = A * B\n",
    "\n",
    "print(F)"
   ]
  },
  {
   "cell_type": "markdown",
   "id": "d26ab118",
   "metadata": {},
   "source": [
    "### 5. Matrix Transpose"
   ]
  },
  {
   "cell_type": "code",
   "execution_count": 9,
   "id": "898d2025",
   "metadata": {},
   "outputs": [
    {
     "name": "stdout",
     "output_type": "stream",
     "text": [
      "[[2 0 1]\n",
      " [1 2 1]\n",
      " [3 4 2]]\n"
     ]
    }
   ],
   "source": [
    "# Define new matrix A\n",
    "A = np.array([[2, 1, 3],\n",
    "              [0, 2, 4],\n",
    "              [1, 1, 2]])\n",
    "\n",
    "# Transpose matrix A\n",
    "# Use transpose() function from numpy\n",
    "A_T = np.transpose(A)\n",
    "\n",
    "print(A_T)"
   ]
  },
  {
   "cell_type": "markdown",
   "id": "b7841864",
   "metadata": {},
   "source": [
    "### 6. Matrix Inversion"
   ]
  },
  {
   "cell_type": "code",
   "execution_count": 10,
   "id": "146cd550",
   "metadata": {},
   "outputs": [
    {
     "name": "stdout",
     "output_type": "stream",
     "text": [
      "[[ 0.  -0.5  1. ]\n",
      " [-2.  -0.5  4. ]\n",
      " [ 1.   0.5 -2. ]]\n"
     ]
    }
   ],
   "source": [
    "# Inverse matrix A\n",
    "# Use inv() function from numpy.linalg (linear algebra)\n",
    "A_inv = np.linalg.inv(A)\n",
    "\n",
    "print(A_inv)"
   ]
  },
  {
   "cell_type": "markdown",
   "id": "2b9d2bee",
   "metadata": {},
   "source": [
    "### 7. Identity Matrix"
   ]
  },
  {
   "cell_type": "code",
   "execution_count": 11,
   "id": "2de73761",
   "metadata": {},
   "outputs": [
    {
     "name": "stdout",
     "output_type": "stream",
     "text": [
      "[[1. 0. 0.]\n",
      " [0. 1. 0.]\n",
      " [0. 0. 1.]]\n"
     ]
    }
   ],
   "source": [
    "# 3x3 identity matrix\n",
    "I = np.eye(3)\n",
    "\n",
    "print(I)"
   ]
  },
  {
   "cell_type": "markdown",
   "id": "fe48b382",
   "metadata": {},
   "source": [
    "### 8. Linear Equation"
   ]
  },
  {
   "cell_type": "code",
   "execution_count": 12,
   "id": "78d9a91d",
   "metadata": {},
   "outputs": [
    {
     "name": "stdout",
     "output_type": "stream",
     "text": [
      "[ 2.  9. -4.]\n"
     ]
    }
   ],
   "source": [
    "# Define new vector b\n",
    "b = np.array([1, 2, 3])\n",
    "\n",
    "# Solving linear equation Ax = b\n",
    "x = np.linalg.solve(A, b)\n",
    "\n",
    "print(x)"
   ]
  },
  {
   "cell_type": "markdown",
   "id": "958dcb72",
   "metadata": {},
   "source": [
    "## Loops\n",
    "\n",
    "### 1. For Loop"
   ]
  },
  {
   "cell_type": "code",
   "execution_count": 13,
   "id": "5de77d07",
   "metadata": {},
   "outputs": [
    {
     "name": "stdout",
     "output_type": "stream",
     "text": [
      "0\n",
      "1\n",
      "2\n",
      "3\n",
      "4\n"
     ]
    }
   ],
   "source": [
    "# Iterates from 0 to 4\n",
    "for i in range(5):\n",
    "    print(i)"
   ]
  },
  {
   "cell_type": "code",
   "execution_count": 14,
   "id": "1c670276",
   "metadata": {
    "scrolled": true
   },
   "outputs": [
    {
     "name": "stdout",
     "output_type": "stream",
     "text": [
      "1\n",
      "2\n",
      "3\n",
      "4\n"
     ]
    }
   ],
   "source": [
    "# Iterates from 1 to 4\n",
    "for i in range(1, 5):\n",
    "    print(i)"
   ]
  },
  {
   "cell_type": "code",
   "execution_count": 15,
   "id": "5b06e316",
   "metadata": {},
   "outputs": [
    {
     "name": "stdout",
     "output_type": "stream",
     "text": [
      "1\n",
      "3\n",
      "5\n",
      "7\n",
      "9\n"
     ]
    }
   ],
   "source": [
    "# Iterates from 1 to 10 every 2 number\n",
    "for i in range(1, 10, 2):\n",
    "    print(i)"
   ]
  },
  {
   "cell_type": "code",
   "execution_count": 16,
   "id": "96baf1f4",
   "metadata": {},
   "outputs": [
    {
     "name": "stdout",
     "output_type": "stream",
     "text": [
      "10\n",
      "9\n",
      "8\n",
      "7\n",
      "6\n",
      "5\n",
      "4\n",
      "3\n",
      "2\n"
     ]
    }
   ],
   "source": [
    "# Iterates in reverse\n",
    "for i in range(10, 1, -1):\n",
    "    print(i)"
   ]
  },
  {
   "cell_type": "markdown",
   "id": "5b9a0460",
   "metadata": {},
   "source": [
    "### 2. While Loop"
   ]
  },
  {
   "cell_type": "code",
   "execution_count": 17,
   "id": "7ab843c0",
   "metadata": {},
   "outputs": [
    {
     "name": "stdout",
     "output_type": "stream",
     "text": [
      "0\n",
      "1\n",
      "2\n",
      "3\n",
      "4\n",
      "5\n"
     ]
    }
   ],
   "source": [
    "# While loop\n",
    "i = 0\n",
    "while i <= 5:   # Iterates from 0 to 4\n",
    "    print(i)\n",
    "    i += 1"
   ]
  },
  {
   "cell_type": "markdown",
   "id": "db9473b0",
   "metadata": {},
   "source": [
    "**Example use case**: Calculating the sum of numbers from 1 to 10"
   ]
  },
  {
   "cell_type": "code",
   "execution_count": 18,
   "id": "eb80e2ef",
   "metadata": {},
   "outputs": [
    {
     "name": "stdout",
     "output_type": "stream",
     "text": [
      "Sum (for loop): 55\n",
      "Sum (while loop): 55\n"
     ]
    }
   ],
   "source": [
    "# Using for loop\n",
    "total = 0\n",
    "for i in range(1, 11):\n",
    "    total += i\n",
    "print(\"Sum (for loop):\", total)\n",
    "\n",
    "# Using while loop\n",
    "i = 0\n",
    "total = 0\n",
    "while i < 11:\n",
    "    total += i\n",
    "    i += 1\n",
    "print(\"Sum (while loop):\", total)"
   ]
  },
  {
   "cell_type": "markdown",
   "id": "0cceaf0a",
   "metadata": {},
   "source": [
    "## Conditionals"
   ]
  },
  {
   "cell_type": "markdown",
   "id": "94833fb3",
   "metadata": {},
   "source": [
    "### 1. If Statement\n",
    "\n",
    "Executes a block of code if a condition is true."
   ]
  },
  {
   "cell_type": "code",
   "execution_count": 19,
   "id": "a46c0a92",
   "metadata": {},
   "outputs": [],
   "source": [
    "x = 1\n",
    "if x > 5:\n",
    "    print(\"x is greater than 5\")"
   ]
  },
  {
   "cell_type": "markdown",
   "id": "070c4e8b",
   "metadata": {},
   "source": [
    "### 2. If-Else Statement\n",
    "\n",
    "Executes one block of code if the condition is true, and another block if it is false."
   ]
  },
  {
   "cell_type": "code",
   "execution_count": 20,
   "id": "4f6081d7",
   "metadata": {},
   "outputs": [
    {
     "name": "stdout",
     "output_type": "stream",
     "text": [
      "x is not smaller than 5\n"
     ]
    }
   ],
   "source": [
    "x = 10\n",
    "if x < 5:\n",
    "    print(\"x is smaller than 5\")\n",
    "else:\n",
    "    print(\"x is not smaller than 5\")"
   ]
  },
  {
   "cell_type": "markdown",
   "id": "227c6806",
   "metadata": {},
   "source": [
    "### 3. If-Elif-Else Statement\n",
    "\n",
    "Checks multiple conditions"
   ]
  },
  {
   "cell_type": "code",
   "execution_count": 21,
   "id": "27919d94",
   "metadata": {},
   "outputs": [
    {
     "name": "stdout",
     "output_type": "stream",
     "text": [
      "x is equal to 10 and x is even\n"
     ]
    }
   ],
   "source": [
    "x = 10\n",
    "if x > 10:\n",
    "    print(\"x is greater than 10\")\n",
    "elif x == 10 and x % 2 == 0:\n",
    "    print(\"x is equal to 10 and x is even\")\n",
    "else:\n",
    "    print(\"x is less than 10\")"
   ]
  },
  {
   "cell_type": "markdown",
   "id": "ad23cd61",
   "metadata": {},
   "source": [
    "**Example use case**: Determine if a number is even or odd."
   ]
  },
  {
   "cell_type": "code",
   "execution_count": 22,
   "id": "f3b34686",
   "metadata": {},
   "outputs": [
    {
     "name": "stdout",
     "output_type": "stream",
     "text": [
      "Number is odd\n"
     ]
    }
   ],
   "source": [
    "number = 7\n",
    "if number % 2 == 0:\n",
    "    print(\"Number is even\")\n",
    "else:\n",
    "    print(\"Number is odd\")"
   ]
  },
  {
   "cell_type": "markdown",
   "id": "5cc28ef4",
   "metadata": {},
   "source": [
    "### 4. Combining Loops and Conditionals"
   ]
  },
  {
   "cell_type": "code",
   "execution_count": 23,
   "id": "52f0f54d",
   "metadata": {},
   "outputs": [
    {
     "name": "stdout",
     "output_type": "stream",
     "text": [
      "2\n",
      "4\n",
      "6\n",
      "8\n",
      "10\n"
     ]
    }
   ],
   "source": [
    "# Print all even numbers from 1 to 10\n",
    "for i in range(1, 11):\n",
    "    if i % 2 == 0:\n",
    "        print(i)"
   ]
  },
  {
   "cell_type": "markdown",
   "id": "6c811fee",
   "metadata": {},
   "source": [
    "## Plotting Graphs"
   ]
  },
  {
   "cell_type": "markdown",
   "id": "fc0387fa",
   "metadata": {},
   "source": [
    "### 1. Simple Line Plot"
   ]
  },
  {
   "cell_type": "code",
   "execution_count": 24,
   "id": "0709db9a",
   "metadata": {},
   "outputs": [
    {
     "data": {
      "image/png": "[encoded data removed]",
      "text/plain": [
       "<Figure size 640x480 with 1 Axes>"
      ]
     },
     "metadata": {},
     "output_type": "display_data"
    }
   ],
   "source": [
    "import matplotlib.pyplot as plt\n",
    "\n",
    "# Sample data\n",
    "x = [0, 1, 2, 3, 4, 5]\n",
    "y = [0, 1, 4, 9, 16, 25]\n",
    "\n",
    "# Create a line plot\n",
    "plt.plot(x, y)\n",
    "\n",
    "# Add labels and title\n",
    "plt.xlabel('X Axis')\n",
    "plt.ylabel('Y Axis')\n",
    "plt.title('Simple Line Plot')\n",
    "plt.grid(True)\n",
    "\n",
    "# Show the plot\n",
    "plt.show()"
   ]
  },
  {
   "cell_type": "code",
   "execution_count": 25,
   "id": "1c0210ee",
   "metadata": {
    "scrolled": true
   },
   "outputs": [
    {
     "name": "stdout",
     "output_type": "stream",
     "text": [
      "[0 1 2 3 4 5]\n",
      "[0, 1, 2, 3, 4, 5]\n"
     ]
    }
   ],
   "source": [
    "# How to get x values using numpy\n",
    "x_1 = np.arange(0, 6, 1)\n",
    "# You can use np.arange too if you want to get decimal values for x\n",
    "# Example: x_1 = np.arange(0, 6, 0.1)\n",
    "\n",
    "# Manually\n",
    "x_2 = [0, 1, 2, 3, 4, 5]\n",
    "\n",
    "print(x_1)\n",
    "print(x_2)"
   ]
  },
  {
   "cell_type": "code",
   "execution_count": 26,
   "id": "a086669e",
   "metadata": {},
   "outputs": [
    {
     "name": "stdout",
     "output_type": "stream",
     "text": [
      "[ 0  1  4  9 16 25]\n",
      "[0, 1, 4, 9, 16, 25]\n"
     ]
    }
   ],
   "source": [
    "# There are 2 ways to get y values if the function of y with respect to x is known\n",
    "y_1 = x_1**2  # Only if x is numpy array\n",
    "y_2 = [i**2 for i in x_2]\n",
    "\n",
    "print(y_1)\n",
    "print(y_2)"
   ]
  },
  {
   "cell_type": "markdown",
   "id": "a5349a49",
   "metadata": {},
   "source": [
    "### 2. Multiple Line Plot"
   ]
  },
  {
   "cell_type": "code",
   "execution_count": 27,
   "id": "62960c2c",
   "metadata": {},
   "outputs": [
    {
     "data": {
      "image/png": "[encoded data removed]",
      "text/plain": [
       "<Figure size 640x480 with 1 Axes>"
      ]
     },
     "metadata": {},
     "output_type": "display_data"
    }
   ],
   "source": [
    "import matplotlib.pyplot as plt\n",
    "\n",
    "x = [0, 1, 2, 3, 4, 5]\n",
    "y1 = [0, 1, 4, 9, 16, 25]\n",
    "y2 = [0, 1, 8, 27, 64, 125]\n",
    "\n",
    "plt.plot(x, y1, label=\"y = x^2\")\n",
    "plt.plot(x, y2, label=\"y = x^3\")\n",
    "\n",
    "plt.xlabel('X Axis')\n",
    "plt.ylabel('Y Axis')\n",
    "plt.title('Multiple Line Plots')\n",
    "plt.legend()  # Add a legend\n",
    "plt.grid(True)  # Show gridlines\n",
    "\n",
    "plt.show()"
   ]
  },
  {
   "cell_type": "markdown",
   "id": "ab8ac676",
   "metadata": {},
   "source": [
    "## Functions"
   ]
  },
  {
   "cell_type": "code",
   "execution_count": 28,
   "id": "9923325a",
   "metadata": {},
   "outputs": [
    {
     "name": "stdout",
     "output_type": "stream",
     "text": [
      "16\n"
     ]
    }
   ],
   "source": [
    "# Example: function with 1 parameter/input and 1 return value\n",
    "def square(x):\n",
    "    return x ** 2\n",
    "    \n",
    "# Using the function\n",
    "result = square(4)\n",
    "print(result)"
   ]
  },
  {
   "cell_type": "code",
   "execution_count": 29,
   "id": "bf96a699",
   "metadata": {},
   "outputs": [
    {
     "name": "stdout",
     "output_type": "stream",
     "text": [
      "15\n"
     ]
    }
   ],
   "source": [
    "# Example: function with multiple parameters/inputs\n",
    "def multiply(a, b):\n",
    "    return a * b\n",
    "\n",
    "result = multiply(3, 5)\n",
    "print(result)  # Output: 15"
   ]
  },
  {
   "cell_type": "code",
   "execution_count": 30,
   "id": "e1f4713b",
   "metadata": {},
   "outputs": [
    {
     "name": "stdout",
     "output_type": "stream",
     "text": [
      "Sum: 8\n",
      "Product: 15\n"
     ]
    }
   ],
   "source": [
    "# Example: function with multiple return values\n",
    "def sum_and_product(a, b):\n",
    "    return a + b, a * b\n",
    "\n",
    "s, p = sum_and_product(3, 5)\n",
    "print(\"Sum:\", s)        # Output: Sum: 8\n",
    "print(\"Product:\", p)    # Output: Product: 15"
   ]
  },
  {
   "cell_type": "markdown",
   "id": "7a6af490",
   "metadata": {},
   "source": [
    "Functions can call themselves, which is known as recursion. This is useful for solving problems like calculating the factorial of a number."
   ]
  },
  {
   "cell_type": "code",
   "execution_count": 31,
   "id": "2f6d53bc",
   "metadata": {},
   "outputs": [
    {
     "name": "stdout",
     "output_type": "stream",
     "text": [
      "120\n"
     ]
    }
   ],
   "source": [
    "# Example: recursive function\n",
    "def factorial(n):\n",
    "    if n == 1:\n",
    "        return 1\n",
    "    else:\n",
    "        return n * factorial(n - 1)\n",
    "    \n",
    "print(factorial(5))  # Output: 120"
   ]
  },
  {
   "cell_type": "markdown",
   "id": "e50f79de",
   "metadata": {},
   "source": [
    "Sometimes, simple functions can be defined without a name, known as lambda functions in Python and anonymous functions in MATLAB."
   ]
  },
  {
   "cell_type": "code",
   "execution_count": 32,
   "id": "89c6115e",
   "metadata": {},
   "outputs": [
    {
     "name": "stdout",
     "output_type": "stream",
     "text": [
      "16\n"
     ]
    }
   ],
   "source": [
    "# Lambda function\n",
    "square = lambda x: x ** 2\n",
    "print(square(4))"
   ]
  },
  {
   "cell_type": "code",
   "execution_count": null,
   "id": "b348e50b",
   "metadata": {},
   "outputs": [],
   "source": []
  }
 ],
 "metadata": {
  "kernelspec": {
   "display_name": "Python 3 (ipykernel)",
   "language": "python",
   "name": "python3"
  },
  "language_info": {
   "codemirror_mode": {
    "name": "ipython",
    "version": 3
   },
   "file_extension": ".py",
   "mimetype": "text/x-python",
   "name": "python",
   "nbconvert_exporter": "python",
   "pygments_lexer": "ipython3",
   "version": "3.9.13"
  }
 },
 "nbformat": 4,
 "nbformat_minor": 5
}
